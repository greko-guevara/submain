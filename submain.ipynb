{
 "cells": [
  {
   "cell_type": "markdown",
   "source": [
    "\r\n",
    "<img src=\"C:\\Users\\gguevara\\OneDrive - Universidad EARTH\\python-analysis/logo.png\">\r\n",
    "\r\n",
    "# Plantilla para el Diseño de tuberías secundarias de riego\r\n",
    "\r\n",
    "## Jupypter Notebook by Python 3.9.4\r\n",
    "\r\n",
    "## Preparado por:\r\n",
    "### Prof. Gregory Guevara Laboratorio de Fertirriego Univeridad Earth, Mayo 2021\r\n"
   ],
   "metadata": {}
  },
  {
   "cell_type": "markdown",
   "source": [
    "## declaración de las variables"
   ],
   "metadata": {}
  },
  {
   "cell_type": "code",
   "execution_count": 26,
   "source": [
    "Q=40       #Caudal m3/h\r\n",
    "S=1.5      #espaciamiento entre laterales \r\n",
    "L=257      #Largo del lateral \r\n",
    "HF=4       #Pérdidas por fricción disponibles en mca \r\n"
   ],
   "outputs": [],
   "metadata": {}
  },
  {
   "cell_type": "markdown",
   "source": [
    "## Cálculo hidráulico del diámetro"
   ],
   "metadata": {}
  },
  {
   "cell_type": "code",
   "execution_count": 27,
   "source": [
    "\r\n",
    "\r\n",
    "C= 150 #rugosidad  \r\n",
    "Salidas=L/S #definimos la cantidad de salidas que tiene el lateral de riego\r\n",
    "F=2*Salidas/(2*Salidas-1)*((1/2.852)+0.852**0.5/(6*Salidas**2)) #Factor de Cristiansen para la ecuación de HW\r\n",
    "Q_salida=Q/Salidas\r\n",
    "\r\n",
    "\r\n",
    "dia=[39.8,45.9,57.38,69.46,84.58,108.72,160.08,208.42,259.75,308.05,369.7] #Tuberia SDR diametro interno\r\n",
    "\r\n",
    "LL=L # de longitud total fija\r\n",
    "LLL=0 #longitud 2 del diametro combinado\r\n",
    "n=-1 #punto de inicio para el loop que busca el diametro inferior\r\n",
    "HF3=HF #valor de inicio para la combinacion de diametros \r\n",
    "\r\n",
    "for j in dia: #codigo de para calcular el diametro correcto\r\n",
    "    HF1= (1.131*10**9*(Q/C)**1.852*L*j**-4.872*F)\r\n",
    "    if j==39.8: #definimos el diametro inferior\r\n",
    "        jj=0\r\n",
    "    else: #loop del diametro inferior que viene detras del diametro que se calcula\r\n",
    "        n+=1\r\n",
    "        jj=dia[n]\r\n",
    "    \r\n",
    "    Area= 3.141516*(j/2000)**2\r\n",
    "    Vel=Q/Area/3600    \r\n",
    "    #definimos el diametro inferior\r\n",
    "    if Vel>3: # prueba para evitar velocidades turbulentas \r\n",
    "        continue   \r\n",
    "    if HF1<HF:  #Prueba para saber que es el díametro correcto\r\n",
    "        while HF3 >= HF:  #si el diametro es el correcto hace loop para ajustar L combinación de diametros\r\n",
    "            L-=S\r\n",
    "            LLL=LL-L\r\n",
    "            Salida1=L/S\r\n",
    "            Salida2=LLL/S\r\n",
    "            F1=2*Salida1/(2*Salida1-1)*((1/2.852)+(0.852**0.5)/(6*Salida1**2))\r\n",
    "            F2=2*Salida2/(2*Salida2-1)*((1/2.852)+(0.852**0.5)/(6*Salida2**2))\r\n",
    "            Area2= 3.141516*(jj/2000)**2\r\n",
    "            Q2=Q*L/LL #proporcion del caudal que pasasá por el diametro menor\r\n",
    "            Vel2=Q2/Area2/3600 #velocidad del diametro menor\r\n",
    "            HF3=(1.131*10**9*(Q2/C)**1.852*L*jj**-4.872*F1)+(1.131*10**9*(Q/C)**1.852*LLL*j**-4.872*F2 )\r\n",
    "            \r\n",
    "        break\r\n",
    "    \r\n",
    "#Salidas    \r\n",
    "HF1=round(HF1,2)\r\n",
    "HF3=round(HF3,2)\r\n",
    "L=round(L,2)\r\n",
    "LL=round(LL,2) \r\n",
    "LLL=round(LLL,2)\r\n",
    "Vel=round(Vel,2)\r\n",
    "Vel2=round(Vel2,2)\r\n",
    "\r\n",
    "print (\"***********************************************************\")\r\n",
    "print (\"***********************************************************\")\r\n",
    "print (\"el diametro sugerido: \" + str(j) + \" mm\")\r\n",
    "print (\"las perdidas por fricción: \" + str(HF1) + \" mca\")\r\n",
    "print (\"con una velocidad: \" + str(Vel) + \" m/s\")\r\n",
    "print (\"\")\r\n",
    "print (\"\")\r\n",
    "print (\"también puedes combinar el dimétro  \"+str(j)+\" mm x \"+str(LLL)+\" m y \" +str(jj)+\" mm x \"+str(L)+\" m\")\r\n",
    "print (\"las pérdidas son de \"+str(HF3)+\" mca\")\r\n",
    "print (\"las velocidades son =  \"+str(Vel)+\" m/s x \"+str(j)+\" mm y \" +str(Vel2)+\" m/s x \"+str(jj)+\" mm\")\r\n",
    "\r\n"
   ],
   "outputs": [
    {
     "output_type": "stream",
     "name": "stdout",
     "text": [
      "***********************************************************\n",
      "***********************************************************\n",
      "el diametro sugerido: 84.58 mm\n",
      "las perdidas por fricción: 3.6 mca\n",
      "con una velocidad: 1.98 m/s\n",
      "\n",
      "\n",
      "también puedes combinar el dimétro  84.58 mm x 91.5 m y 69.46 mm x 165.5 m\n",
      "las pérdidas son de 3.98 mca\n",
      "las velocidades son =  1.98 m/s x 84.58 mm y 1.89 m/s x 69.46 mm\n"
     ]
    }
   ],
   "metadata": {}
  },
  {
   "cell_type": "markdown",
   "source": [
    "## Cálculo del tiempo de avance en el lateral "
   ],
   "metadata": {}
  },
  {
   "cell_type": "code",
   "execution_count": 28,
   "source": [
    "import pandas as pd\r\n",
    "df=pd.DataFrame()\r\n",
    "df[\"salidas\"]=0\r\n",
    "df[\"long_acum\"]=0\r\n",
    "df[\"q_tramo\"]=0\r\n",
    "df[\"v_tramo\"]=0\r\n",
    "df[\"t_tramo\"]=0\r\n",
    "df[\"v_tramo_comb\"]=0\r\n",
    "df[\"t_tramo_comb\"]=0\r\n",
    "\r\n",
    "a=range(1,int(Salidas)+1)\r\n",
    "qq=Q\r\n",
    "ss=0\r\n",
    "for x in a: \r\n",
    "    qq=qq-Q_salida # en este vamos restado el caudal total cada vez que pasamos por una salida \r\n",
    "    ss=ss+S #step para el número de salidas \r\n",
    "    df.at[x,'salidas']=j # determinación de la columna \"longitud acumulada\"\r\n",
    "    df.at[x,'long_acum']=ss # determinación de la columna \"longitud acumulada\"\r\n",
    "    df.at[x,'q_tramo']=qq\r\n",
    "\r\n",
    "#calculos del tiempo de avance sin combinación de diametros  \r\n",
    "df[\"v_tramo\"]=df[\"q_tramo\"]/Area/3600\r\n",
    "df[\"t_tramo\"]=S/df[\"v_tramo\"]\r\n",
    "t_avance= round(df[\"t_tramo\"].sum()/60,2)\r\n",
    "\r\n",
    "#calculo del tiempo de avance con combinación de diametros \r\n",
    "for i in df['long_acum']:\r\n",
    "    if i<LLL:\r\n",
    "        df['v_tramo_comb']=df['q_tramo']/Area/3600\r\n",
    "    else:\r\n",
    "        df['v_tramo_comb']=df['q_tramo']/Area2/3600 \r\n",
    "df[\"t_tramo_comb\"]=S/df[\"v_tramo_comb\"]\r\n",
    "\r\n",
    "\r\n",
    "\r\n",
    "\r\n",
    "t_avance_comb= round(df[\"t_tramo_comb\"].sum()/60,2)\r\n",
    "\r\n",
    "print (\"***********************************************************\")\r\n",
    "print (\"***********************************************************\")\r\n",
    "print (\"el diametro sugerido: \" + str(j) + \" mm\")\r\n",
    "print (\"las perdidas por fricción: \" + str(HF1) + \" mca\")\r\n",
    "print (\"con una velocidad: \" + str(Vel) + \" m/s\")\r\n",
    "print (\"el tiempo de avance en el manifold completo es: \" + str(t_avance) + \" minutos\")\r\n",
    "print (\"\")\r\n",
    "print (\"\")\r\n",
    "print (\"también puedes combinar el dimétro  \"+str(j)+\" mm x \"+str(LLL)+\" m y \" +str(jj)+\" mm x \"+str(L)+\" m\")\r\n",
    "print (\"las pérdidas son de \"+str(HF3)+\" mca\")\r\n",
    "print (\"las velocidades son =  \"+str(Vel)+\" m/s x \"+str(j)+\" mm y \" +str(Vel2)+\" m/s x \"+str(jj)+\" mm\")\r\n",
    "print (\"el tiempo de avance en el manifold combinado es : \" + str(t_avance_comb) + \" minutos\")\r\n",
    "\r\n",
    "print (\"***********************************************************\")\r\n",
    "print (df)\r\n"
   ],
   "outputs": [
    {
     "output_type": "stream",
     "name": "stdout",
     "text": [
      "range(1, 172)\n",
      "***********************************************************\n",
      "***********************************************************\n",
      "el diametro sugerido: 84.58 mm\n",
      "las perdidas por fricción: 3.6 mca\n",
      "con una velocidad: 1.98 m/s\n",
      "el tiempo de avance en el manifold completo es: 17.92 minutos\n",
      "\n",
      "\n",
      "también puedes combinar el dimétro  84.58 mm x 91.5 m y 69.46 mm x 165.5 m\n",
      "las pérdidas son de 3.98 mca\n",
      "las velocidades son =  1.98 m/s x 84.58 mm y 1.89 m/s x 69.46 mm\n",
      "el tiempo de avance en el manifold combinado es : 12.08 minutos\n",
      "***********************************************************\n",
      "     salidas  long_acum    q_tramo   v_tramo     t_tramo  v_tramo_comb  \\\n",
      "1      84.58        1.5  39.766537  1.966077    0.762940      2.915187   \n",
      "2      84.58        3.0  39.533074  1.954535    0.767446      2.898072   \n",
      "3      84.58        4.5  39.299611  1.942992    0.772005      2.880958   \n",
      "4      84.58        6.0  39.066148  1.931450    0.776619      2.863843   \n",
      "5      84.58        7.5  38.832685  1.919907    0.781288      2.846729   \n",
      "..       ...        ...        ...       ...         ...           ...   \n",
      "167    84.58      250.5   1.011673  0.050018   29.989428      0.074163   \n",
      "168    84.58      252.0   0.778210  0.038475   38.986256      0.057049   \n",
      "169    84.58      253.5   0.544747  0.026933   55.694652      0.039934   \n",
      "170    84.58      255.0   0.311284  0.015390   97.465641      0.022819   \n",
      "171    84.58      256.5   0.077821  0.003848  389.862563      0.005705   \n",
      "\n",
      "     t_tramo_comb  \n",
      "1        0.514547  \n",
      "2        0.517585  \n",
      "3        0.520660  \n",
      "4        0.523772  \n",
      "5        0.526921  \n",
      "..            ...  \n",
      "167     20.225645  \n",
      "168     26.293338  \n",
      "169     37.561912  \n",
      "170     65.733346  \n",
      "171    262.933383  \n",
      "\n",
      "[171 rows x 7 columns]\n"
     ]
    }
   ],
   "metadata": {}
  }
 ],
 "metadata": {
  "kernelspec": {
   "name": "python3",
   "display_name": "Python 3.9.4 64-bit"
  },
  "language_info": {
   "codemirror_mode": {
    "name": "ipython",
    "version": 3
   },
   "file_extension": ".py",
   "mimetype": "text/x-python",
   "name": "python",
   "nbconvert_exporter": "python",
   "pygments_lexer": "ipython3",
   "version": "3.9.4"
  },
  "metadata": {
   "interpreter": {
    "hash": "cd823b65f7b38d9d9710b88c600c8e22ae64cf44a4ccc591d6d6d8623dea5918"
   }
  },
  "interpreter": {
   "hash": "cd823b65f7b38d9d9710b88c600c8e22ae64cf44a4ccc591d6d6d8623dea5918"
  }
 },
 "nbformat": 4,
 "nbformat_minor": 4
}